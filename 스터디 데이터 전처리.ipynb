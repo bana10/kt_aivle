{
 "cells": [
  {
   "cell_type": "markdown",
   "id": "6cdea12a-f04e-4dc6-8634-ea7d9af05542",
   "metadata": {},
   "source": [
    "# 1. 데이터 소개"
   ]
  },
  {
   "cell_type": "markdown",
   "id": "0e9572f5-587b-4def-8bc5-cbab31ee6b31",
   "metadata": {},
   "source": [
    "- HIV에 감염된 사람들의 추정 수(모든 연령대)\n",
    "- HIV/AIDS로 인한 사망자 수\n",
    "    > Country   \n",
    "    > Year   \n",
    "    > Count  \n",
    "    > Count_median  \n",
    "    > Count_min  \n",
    "    > Count_max  \n",
    "    > WHO Region :국가가 속한 WHO의 지역을 나타냄\n",
    "\n",
    "\n",
    "    "
   ]
  },
  {
   "cell_type": "markdown",
   "id": "dfdf5000-a81a-4ba2-9889-6f51089a6eac",
   "metadata": {},
   "source": [
    "# 2. 데이터셋 불러오기"
   ]
  },
  {
   "cell_type": "code",
   "execution_count": 7,
   "id": "f85af4ac-f3d9-46e1-ae2a-4f8c3e02a03e",
   "metadata": {},
   "outputs": [],
   "source": [
    "# 라이브러리 불러오기\n",
    "import pandas as pd\n",
    "import numpy as np"
   ]
  },
  {
   "cell_type": "code",
   "execution_count": 268,
   "id": "683c2223-94a8-4dd2-bd32-1a7b4edf0843",
   "metadata": {},
   "outputs": [],
   "source": [
    "# 데이터셋 불러오기\n",
    "infected_hiv = pd.read_csv('archive/no_of_people_living_with_hiv_by_country_clean.csv')\n",
    "dead_hiv = pd.read_csv('archive/no_of_deaths_by_country_clean.csv')"
   ]
  },
  {
   "cell_type": "code",
   "execution_count": 17,
   "id": "914ff089-c40e-4391-86d4-44915602f894",
   "metadata": {},
   "outputs": [
    {
     "data": {
      "text/html": [
       "<div>\n",
       "<style scoped>\n",
       "    .dataframe tbody tr th:only-of-type {\n",
       "        vertical-align: middle;\n",
       "    }\n",
       "\n",
       "    .dataframe tbody tr th {\n",
       "        vertical-align: top;\n",
       "    }\n",
       "\n",
       "    .dataframe thead th {\n",
       "        text-align: right;\n",
       "    }\n",
       "</style>\n",
       "<table border=\"1\" class=\"dataframe\">\n",
       "  <thead>\n",
       "    <tr style=\"text-align: right;\">\n",
       "      <th></th>\n",
       "      <th>Country</th>\n",
       "      <th>Year</th>\n",
       "      <th>Count</th>\n",
       "      <th>Count_median</th>\n",
       "      <th>Count_min</th>\n",
       "      <th>Count_max</th>\n",
       "      <th>WHO Region</th>\n",
       "    </tr>\n",
       "  </thead>\n",
       "  <tbody>\n",
       "    <tr>\n",
       "      <th>0</th>\n",
       "      <td>Afghanistan</td>\n",
       "      <td>2018</td>\n",
       "      <td>7200[4100–11000]</td>\n",
       "      <td>7200.0</td>\n",
       "      <td>4100.0</td>\n",
       "      <td>11000.0</td>\n",
       "      <td>Eastern Mediterranean</td>\n",
       "    </tr>\n",
       "    <tr>\n",
       "      <th>1</th>\n",
       "      <td>Albania</td>\n",
       "      <td>2018</td>\n",
       "      <td>na</td>\n",
       "      <td>NaN</td>\n",
       "      <td>NaN</td>\n",
       "      <td>NaN</td>\n",
       "      <td>Europe</td>\n",
       "    </tr>\n",
       "    <tr>\n",
       "      <th>2</th>\n",
       "      <td>Algeria</td>\n",
       "      <td>2018</td>\n",
       "      <td>16000[15000–17000]</td>\n",
       "      <td>16000.0</td>\n",
       "      <td>15000.0</td>\n",
       "      <td>17000.0</td>\n",
       "      <td>Africa</td>\n",
       "    </tr>\n",
       "    <tr>\n",
       "      <th>3</th>\n",
       "      <td>Angola</td>\n",
       "      <td>2018</td>\n",
       "      <td>330000[290000–390000]</td>\n",
       "      <td>330000.0</td>\n",
       "      <td>290000.0</td>\n",
       "      <td>390000.0</td>\n",
       "      <td>Africa</td>\n",
       "    </tr>\n",
       "    <tr>\n",
       "      <th>4</th>\n",
       "      <td>Argentina</td>\n",
       "      <td>2018</td>\n",
       "      <td>140000[130000–150000]</td>\n",
       "      <td>140000.0</td>\n",
       "      <td>130000.0</td>\n",
       "      <td>150000.0</td>\n",
       "      <td>Americas</td>\n",
       "    </tr>\n",
       "  </tbody>\n",
       "</table>\n",
       "</div>"
      ],
      "text/plain": [
       "       Country  Year                  Count  Count_median  Count_min  \\\n",
       "0  Afghanistan  2018       7200[4100–11000]        7200.0     4100.0   \n",
       "1      Albania  2018                     na           NaN        NaN   \n",
       "2      Algeria  2018     16000[15000–17000]       16000.0    15000.0   \n",
       "3       Angola  2018  330000[290000–390000]      330000.0   290000.0   \n",
       "4    Argentina  2018  140000[130000–150000]      140000.0   130000.0   \n",
       "\n",
       "   Count_max             WHO Region  \n",
       "0    11000.0  Eastern Mediterranean  \n",
       "1        NaN                 Europe  \n",
       "2    17000.0                 Africa  \n",
       "3   390000.0                 Africa  \n",
       "4   150000.0               Americas  "
      ]
     },
     "metadata": {},
     "output_type": "display_data"
    },
    {
     "name": "stdout",
     "output_type": "stream",
     "text": [
      "\n"
     ]
    },
    {
     "data": {
      "text/html": [
       "<div>\n",
       "<style scoped>\n",
       "    .dataframe tbody tr th:only-of-type {\n",
       "        vertical-align: middle;\n",
       "    }\n",
       "\n",
       "    .dataframe tbody tr th {\n",
       "        vertical-align: top;\n",
       "    }\n",
       "\n",
       "    .dataframe thead th {\n",
       "        text-align: right;\n",
       "    }\n",
       "</style>\n",
       "<table border=\"1\" class=\"dataframe\">\n",
       "  <thead>\n",
       "    <tr style=\"text-align: right;\">\n",
       "      <th></th>\n",
       "      <th>Country</th>\n",
       "      <th>Year</th>\n",
       "      <th>Count</th>\n",
       "      <th>Count_median</th>\n",
       "      <th>Count_min</th>\n",
       "      <th>Count_max</th>\n",
       "      <th>WHO Region</th>\n",
       "    </tr>\n",
       "  </thead>\n",
       "  <tbody>\n",
       "    <tr>\n",
       "      <th>0</th>\n",
       "      <td>Afghanistan</td>\n",
       "      <td>2018</td>\n",
       "      <td>500[200–610]</td>\n",
       "      <td>500.0</td>\n",
       "      <td>200.0</td>\n",
       "      <td>610.0</td>\n",
       "      <td>Eastern Mediterranean</td>\n",
       "    </tr>\n",
       "    <tr>\n",
       "      <th>1</th>\n",
       "      <td>Albania</td>\n",
       "      <td>2018</td>\n",
       "      <td>na</td>\n",
       "      <td>NaN</td>\n",
       "      <td>NaN</td>\n",
       "      <td>NaN</td>\n",
       "      <td>Europe</td>\n",
       "    </tr>\n",
       "    <tr>\n",
       "      <th>2</th>\n",
       "      <td>Algeria</td>\n",
       "      <td>2018</td>\n",
       "      <td>200[200–200]</td>\n",
       "      <td>200.0</td>\n",
       "      <td>200.0</td>\n",
       "      <td>200.0</td>\n",
       "      <td>Africa</td>\n",
       "    </tr>\n",
       "    <tr>\n",
       "      <th>3</th>\n",
       "      <td>Angola</td>\n",
       "      <td>2018</td>\n",
       "      <td>14000[9500–18000]</td>\n",
       "      <td>14000.0</td>\n",
       "      <td>9500.0</td>\n",
       "      <td>18000.0</td>\n",
       "      <td>Africa</td>\n",
       "    </tr>\n",
       "    <tr>\n",
       "      <th>4</th>\n",
       "      <td>Argentina</td>\n",
       "      <td>2018</td>\n",
       "      <td>1700[1300–2100]</td>\n",
       "      <td>1700.0</td>\n",
       "      <td>1300.0</td>\n",
       "      <td>2100.0</td>\n",
       "      <td>Americas</td>\n",
       "    </tr>\n",
       "  </tbody>\n",
       "</table>\n",
       "</div>"
      ],
      "text/plain": [
       "       Country  Year              Count  Count_median  Count_min  Count_max  \\\n",
       "0  Afghanistan  2018       500[200–610]         500.0      200.0      610.0   \n",
       "1      Albania  2018                 na           NaN        NaN        NaN   \n",
       "2      Algeria  2018       200[200–200]         200.0      200.0      200.0   \n",
       "3       Angola  2018  14000[9500–18000]       14000.0     9500.0    18000.0   \n",
       "4    Argentina  2018    1700[1300–2100]        1700.0     1300.0     2100.0   \n",
       "\n",
       "              WHO Region  \n",
       "0  Eastern Mediterranean  \n",
       "1                 Europe  \n",
       "2                 Africa  \n",
       "3                 Africa  \n",
       "4               Americas  "
      ]
     },
     "metadata": {},
     "output_type": "display_data"
    }
   ],
   "source": [
    "# 데이터셋 확인\n",
    "display(infected_hiv.head())\n",
    "print()\n",
    "display(dead_hiv.head())\n"
   ]
  },
  {
   "cell_type": "code",
   "execution_count": 19,
   "id": "a0d43edf-25a1-4eab-b199-f97c8ca82224",
   "metadata": {},
   "outputs": [
    {
     "name": "stdout",
     "output_type": "stream",
     "text": [
      "<class 'pandas.core.frame.DataFrame'>\n",
      "RangeIndex: 680 entries, 0 to 679\n",
      "Data columns (total 7 columns):\n",
      " #   Column        Non-Null Count  Dtype  \n",
      "---  ------        --------------  -----  \n",
      " 0   Country       680 non-null    object \n",
      " 1   Year          680 non-null    int64  \n",
      " 2   Count         680 non-null    object \n",
      " 3   Count_median  553 non-null    float64\n",
      " 4   Count_min     553 non-null    float64\n",
      " 5   Count_max     553 non-null    float64\n",
      " 6   WHO Region    680 non-null    object \n",
      "dtypes: float64(3), int64(1), object(3)\n",
      "memory usage: 37.3+ KB\n"
     ]
    }
   ],
   "source": [
    "infected_hiv.info()"
   ]
  },
  {
   "cell_type": "code",
   "execution_count": 21,
   "id": "ac2686ee-6018-4385-86f8-8d5acc5ee181",
   "metadata": {},
   "outputs": [
    {
     "name": "stdout",
     "output_type": "stream",
     "text": [
      "<class 'pandas.core.frame.DataFrame'>\n",
      "RangeIndex: 510 entries, 0 to 509\n",
      "Data columns (total 7 columns):\n",
      " #   Column        Non-Null Count  Dtype  \n",
      "---  ------        --------------  -----  \n",
      " 0   Country       510 non-null    object \n",
      " 1   Year          510 non-null    int64  \n",
      " 2   Count         510 non-null    object \n",
      " 3   Count_median  400 non-null    float64\n",
      " 4   Count_min     400 non-null    float64\n",
      " 5   Count_max     400 non-null    float64\n",
      " 6   WHO Region    510 non-null    object \n",
      "dtypes: float64(3), int64(1), object(3)\n",
      "memory usage: 28.0+ KB\n"
     ]
    }
   ],
   "source": [
    "dead_hiv.info()"
   ]
  },
  {
   "cell_type": "markdown",
   "id": "c1cdf713-23c1-4e99-acc3-8d84a6047ade",
   "metadata": {},
   "source": [
    "(메모)  \n",
    "감염자 수 전체 컬럼수는 680, 사망자 수 전체 컬럼은 510.  데이터를 합친다면 감염자 수 쪽으로 left해야겠음.  \n",
    "count에 적힌게 추정감[신뢰구간] 으로 적혀있는데, 일단 난 신뢰구간 값을 지워야겠음."
   ]
  },
  {
   "cell_type": "markdown",
   "id": "497ed2c9-4f9e-4f36-98ea-3e414ac43a9a",
   "metadata": {},
   "source": [
    "# 3. 데이터 탐색"
   ]
  },
  {
   "cell_type": "code",
   "execution_count": 29,
   "id": "7d3c1376-3c2e-4d81-8249-54a8c63ecec8",
   "metadata": {},
   "outputs": [
    {
     "data": {
      "text/plain": [
       "Count\n",
       "na                          127\n",
       "500[500–500]                 12\n",
       "100[100–100]                  6\n",
       "200[200–200]                  6\n",
       "100[100–200]                  4\n",
       "                           ... \n",
       "480000[400000–560000]         1\n",
       "1800[1500–2000]               1\n",
       "17000[13000–21000]            1\n",
       "1000[930–1100]                1\n",
       "1600000[1400000–1900000]      1\n",
       "Name: count, Length: 496, dtype: int64"
      ]
     },
     "execution_count": 29,
     "metadata": {},
     "output_type": "execute_result"
    }
   ],
   "source": [
    "# count 쪽의 데이터 값들 종류를 보고싶음\n",
    "infected_hiv['Count'].value_counts() "
   ]
  },
  {
   "cell_type": "code",
   "execution_count": 31,
   "id": "3b71c4f2-cd1e-4e32-8fbe-75e3af47ca96",
   "metadata": {},
   "outputs": [
    {
     "data": {
      "text/plain": [
       "Count\n",
       "na                      110\n",
       "100[100–100]            101\n",
       "500[500–500]             14\n",
       "500[200–500]             14\n",
       "100[100–200]             11\n",
       "                       ... \n",
       "22000[17000–27000]        1\n",
       "10000[7300–13000]         1\n",
       "1600[1300–2000]           1\n",
       "2000[980–4100]            1\n",
       "120000[98000–150000]      1\n",
       "Name: count, Length: 230, dtype: int64"
      ]
     },
     "execution_count": 31,
     "metadata": {},
     "output_type": "execute_result"
    }
   ],
   "source": [
    " # 사망자 쪽의 Count 쪽도 보기\n",
    "dead_hiv['Count'].value_counts() "
   ]
  },
  {
   "cell_type": "markdown",
   "id": "929c5f86-f13f-43de-bf33-bd542c3ab66a",
   "metadata": {},
   "source": [
    "# 4.  데이터 전처리"
   ]
  },
  {
   "cell_type": "markdown",
   "id": "a2c5958b-4f89-4d98-9e46-3820db95f0ee",
   "metadata": {},
   "source": [
    "- WHO Region 을 mapping 하는게 좋을거 같음\n",
    "    > replace() 와 map()의 과정이 있음\n",
    "\n",
    "--- \n",
    "\n",
    "'Europe' : 1, 'Africa' : 2 , 'Americas' : 3 ,\n",
    "'Eastern Mediterranean' :4,\n",
    " 'Western Pacific' : 5 , 'South-East Asia': 6"
   ]
  },
  {
   "cell_type": "code",
   "execution_count": 270,
   "id": "d133c089-9eef-413c-adb1-db8f0b8d526f",
   "metadata": {},
   "outputs": [
    {
     "name": "stdout",
     "output_type": "stream",
     "text": [
      "WHO Region\n",
      "1    150\n",
      "2    132\n",
      "3     90\n",
      "4     60\n",
      "5     48\n",
      "6     30\n",
      "Name: count, dtype: int64\n",
      "\n",
      "WHO Region\n",
      "1    200\n",
      "2    176\n",
      "3    120\n",
      "4     80\n",
      "5     64\n",
      "6     40\n",
      "Name: count, dtype: int64\n"
     ]
    },
    {
     "name": "stderr",
     "output_type": "stream",
     "text": [
      "C:\\Users\\User\\AppData\\Local\\Temp\\ipykernel_12216\\145184587.py:4: FutureWarning: Downcasting behavior in `replace` is deprecated and will be removed in a future version. To retain the old behavior, explicitly call `result.infer_objects(copy=False)`. To opt-in to the future behavior, set `pd.set_option('future.no_silent_downcasting', True)`\n",
      "  dead_hiv['WHO Region'] = dead_hiv['WHO Region'].replace({'Europe' : 1, 'Africa' : 2 , 'Americas' : 3 , 'Eastern Mediterranean' :4,\n"
     ]
    }
   ],
   "source": [
    "infected_hiv['WHO Region'] = infected_hiv['WHO Region'].map({'Europe' : 1, 'Africa' : 2 , 'Americas' : 3 , 'Eastern Mediterranean' :4,\n",
    "                               'Western Pacific' : 5 , 'South-East Asia': 6})\n",
    "\n",
    "dead_hiv['WHO Region'] = dead_hiv['WHO Region'].replace({'Europe' : 1, 'Africa' : 2 , 'Americas' : 3 , 'Eastern Mediterranean' :4,\n",
    "                               'Western Pacific' : 5 , 'South-East Asia': 6})\n",
    "\n",
    "# 확인\n",
    "print(dead_hiv['WHO Region'].value_counts())\n",
    "print()\n",
    "print(infected_hiv['WHO Region'].value_counts())"
   ]
  },
  {
   "cell_type": "markdown",
   "id": "b6449959-8f09-4a0e-91d2-50bda8e5d2e2",
   "metadata": {},
   "source": [
    "- 결측치 확인 및 처리\n",
    "    > drop() , dropna() , fillna() , ffill() , bfill(), interpolate()  "
   ]
  },
  {
   "cell_type": "code",
   "execution_count": 272,
   "id": "74106ab2-43d2-4002-90c8-50c5f7be7192",
   "metadata": {},
   "outputs": [],
   "source": [
    "# Count에 보면  na라고 적힌 값이 있단 말임. 그 값을 가진 행을 지우기로 함\n",
    "infected_hiv.drop(infected_hiv[infected_hiv['Count']== 'na'].index, inplace = True)\n",
    "dead_hiv.drop(dead_hiv[dead_hiv['Count']== 'na'].index, inplace = True)"
   ]
  },
  {
   "cell_type": "markdown",
   "id": "fc76313b-dd25-4d7d-a5a9-1650a6f557fd",
   "metadata": {},
   "source": [
    "- 데이터 값 수정"
   ]
  },
  {
   "cell_type": "code",
   "execution_count": 274,
   "id": "55e3b815-7cc6-4d33-aa3c-b1fd7277bc3b",
   "metadata": {},
   "outputs": [],
   "source": [
    "infected_hiv['Count'] = infected_hiv['Count'].apply(lambda x: x.split('[')[0])\n",
    "dead_hiv['Count'] = dead_hiv['Count'].apply(lambda x: x.split('[')[0])"
   ]
  },
  {
   "cell_type": "markdown",
   "id": "78e559af-35ec-4c84-b767-7b9f9f21a65e",
   "metadata": {},
   "source": [
    "- 데이터 형태 변경"
   ]
  },
  {
   "cell_type": "code",
   "execution_count": 276,
   "id": "d65f3c6e-de2a-485a-8c58-a713f7b9181d",
   "metadata": {},
   "outputs": [],
   "source": [
    "infected_hiv['Count'] = infected_hiv['Count'].astype(int)\n",
    "dead_hiv['Count'] = dead_hiv['Count'].astype(int)"
   ]
  },
  {
   "cell_type": "markdown",
   "id": "b434504b-0dc1-4d3c-a837-fc312f621422",
   "metadata": {},
   "source": [
    "- 컬럼 이름 변경\n",
    "  > rename() , columns 를 이용해서 변경하는 방법이 있음.   \n",
    "  > rename()의 경우 한,두개 변경시 dict형태로 이름 값을 주어 변경"
   ]
  },
  {
   "cell_type": "code",
   "execution_count": 278,
   "id": "0b1085fb-4eae-424b-87a0-39a1185eaa1d",
   "metadata": {},
   "outputs": [],
   "source": [
    "infected_hiv.columns =['country','year','infected_mean','infected_median','infected_min','infected_max','who_region']\n",
    "dead_hiv.columns =['country','year','dead_mean','dead_median','dead_min','dead_max','who_region']"
   ]
  },
  {
   "cell_type": "code",
   "execution_count": 200,
   "id": "a3e1bd40-39da-41a2-8f03-841fcee9cd82",
   "metadata": {},
   "outputs": [
    {
     "name": "stdout",
     "output_type": "stream",
     "text": [
      "<class 'pandas.core.frame.DataFrame'>\n",
      "Index: 553 entries, 0 to 679\n",
      "Data columns (total 7 columns):\n",
      " #   Column           Non-Null Count  Dtype  \n",
      "---  ------           --------------  -----  \n",
      " 0   country          553 non-null    object \n",
      " 1   year             553 non-null    int64  \n",
      " 2   infected_mean    553 non-null    int32  \n",
      " 3   infected_median  553 non-null    float64\n",
      " 4   infected_min     553 non-null    float64\n",
      " 5   infected_max     553 non-null    float64\n",
      " 6   who_region       553 non-null    int64  \n",
      "dtypes: float64(3), int32(1), int64(2), object(1)\n",
      "memory usage: 32.4+ KB\n"
     ]
    }
   ],
   "source": [
    "infected_hiv.info()"
   ]
  },
  {
   "cell_type": "markdown",
   "id": "acabea2b-c965-44ec-b6cb-345bdeb62b13",
   "metadata": {},
   "source": [
    "- 집계\n",
    "    > groupby(by=['범주값'],as_index = )['연속값'].연산 메서드() 를 이용하여 집계함\n",
    "  "
   ]
  },
  {
   "cell_type": "code",
   "execution_count": 280,
   "id": "339c791c-aede-46c1-99a7-8c88a6070cbc",
   "metadata": {},
   "outputs": [],
   "source": [
    "hiv_infect_country =infected_hiv.groupby(by=['country'],as_index=False)[['infected_mean',\t\n",
    "                                                                         'infected_median',\t'infected_min',\t'infected_max']].mean()\n",
    "\n",
    "hiv_dead_country =dead_hiv.groupby(by=['country'],as_index=False)[['dead_mean',\t\n",
    "                                                                         'dead_median',\t'dead_min',\t'dead_max']].mean()"
   ]
  },
  {
   "cell_type": "markdown",
   "id": "fb19ba59-fe3e-4517-b668-8f6b628ff3dd",
   "metadata": {},
   "source": [
    "- 두 개의 데이터셋을 하나로 합치기\n",
    "    > concat([df1 , df2 ], axis =  , join = ) : 단순 행,열 기준으로 합치기  \n",
    "    > merge(df1,df2 , on = , how = ) : 공통된 열을 기준으로 합치기\n",
    "    > "
   ]
  },
  {
   "cell_type": "code",
   "execution_count": 215,
   "id": "75da40d1-7b1f-4fe2-9434-83c6f8a0af7a",
   "metadata": {},
   "outputs": [
    {
     "name": "stdout",
     "output_type": "stream",
     "text": [
      "(140, 5)\n",
      "(135, 5)\n"
     ]
    }
   ],
   "source": [
    "print(hiv_infect_country.shape)\n",
    "print(hiv_dead_country.shape)\n"
   ]
  },
  {
   "cell_type": "code",
   "execution_count": 282,
   "id": "8a4a28e5-ebd9-4051-8a34-70669df79009",
   "metadata": {},
   "outputs": [
    {
     "data": {
      "text/html": [
       "<div>\n",
       "<style scoped>\n",
       "    .dataframe tbody tr th:only-of-type {\n",
       "        vertical-align: middle;\n",
       "    }\n",
       "\n",
       "    .dataframe tbody tr th {\n",
       "        vertical-align: top;\n",
       "    }\n",
       "\n",
       "    .dataframe thead th {\n",
       "        text-align: right;\n",
       "    }\n",
       "</style>\n",
       "<table border=\"1\" class=\"dataframe\">\n",
       "  <thead>\n",
       "    <tr style=\"text-align: right;\">\n",
       "      <th></th>\n",
       "      <th>country</th>\n",
       "      <th>infected_mean</th>\n",
       "      <th>infected_median</th>\n",
       "      <th>infected_min</th>\n",
       "      <th>infected_max</th>\n",
       "      <th>dead_mean</th>\n",
       "      <th>dead_median</th>\n",
       "      <th>dead_min</th>\n",
       "      <th>dead_max</th>\n",
       "    </tr>\n",
       "  </thead>\n",
       "  <tbody>\n",
       "    <tr>\n",
       "      <th>0</th>\n",
       "      <td>Afghanistan</td>\n",
       "      <td>3975.0</td>\n",
       "      <td>3975.0</td>\n",
       "      <td>2325.0</td>\n",
       "      <td>6425.0</td>\n",
       "      <td>366.666667</td>\n",
       "      <td>366.666667</td>\n",
       "      <td>166.666667</td>\n",
       "      <td>536.666667</td>\n",
       "    </tr>\n",
       "    <tr>\n",
       "      <th>1</th>\n",
       "      <td>Algeria</td>\n",
       "      <td>7175.0</td>\n",
       "      <td>7175.0</td>\n",
       "      <td>6700.0</td>\n",
       "      <td>7650.0</td>\n",
       "      <td>166.666667</td>\n",
       "      <td>166.666667</td>\n",
       "      <td>133.333333</td>\n",
       "      <td>166.666667</td>\n",
       "    </tr>\n",
       "    <tr>\n",
       "      <th>2</th>\n",
       "      <td>Angola</td>\n",
       "      <td>196750.0</td>\n",
       "      <td>196750.0</td>\n",
       "      <td>165500.0</td>\n",
       "      <td>230000.0</td>\n",
       "      <td>9600.000000</td>\n",
       "      <td>9600.000000</td>\n",
       "      <td>6766.666667</td>\n",
       "      <td>12466.666667</td>\n",
       "    </tr>\n",
       "    <tr>\n",
       "      <th>3</th>\n",
       "      <td>Argentina</td>\n",
       "      <td>99750.0</td>\n",
       "      <td>99750.0</td>\n",
       "      <td>89250.0</td>\n",
       "      <td>108750.0</td>\n",
       "      <td>1566.666667</td>\n",
       "      <td>1566.666667</td>\n",
       "      <td>1266.666667</td>\n",
       "      <td>1933.333333</td>\n",
       "    </tr>\n",
       "    <tr>\n",
       "      <th>4</th>\n",
       "      <td>Armenia</td>\n",
       "      <td>2612.5</td>\n",
       "      <td>2612.5</td>\n",
       "      <td>2095.0</td>\n",
       "      <td>3400.0</td>\n",
       "      <td>166.666667</td>\n",
       "      <td>166.666667</td>\n",
       "      <td>133.333333</td>\n",
       "      <td>166.666667</td>\n",
       "    </tr>\n",
       "  </tbody>\n",
       "</table>\n",
       "</div>"
      ],
      "text/plain": [
       "       country  infected_mean  infected_median  infected_min  infected_max  \\\n",
       "0  Afghanistan         3975.0           3975.0        2325.0        6425.0   \n",
       "1      Algeria         7175.0           7175.0        6700.0        7650.0   \n",
       "2       Angola       196750.0         196750.0      165500.0      230000.0   \n",
       "3    Argentina        99750.0          99750.0       89250.0      108750.0   \n",
       "4      Armenia         2612.5           2612.5        2095.0        3400.0   \n",
       "\n",
       "     dead_mean  dead_median     dead_min      dead_max  \n",
       "0   366.666667   366.666667   166.666667    536.666667  \n",
       "1   166.666667   166.666667   133.333333    166.666667  \n",
       "2  9600.000000  9600.000000  6766.666667  12466.666667  \n",
       "3  1566.666667  1566.666667  1266.666667   1933.333333  \n",
       "4   166.666667   166.666667   133.333333    166.666667  "
      ]
     },
     "execution_count": 282,
     "metadata": {},
     "output_type": "execute_result"
    }
   ],
   "source": [
    "# country를 기준으로 합병 \n",
    "hiv = hiv_infect_country.merge(hiv_dead_country , on= 'country' , how = 'left')\n",
    "\n",
    "# 확인\n",
    "hiv.head()\n"
   ]
  },
  {
   "cell_type": "markdown",
   "id": "89943ae9-dce2-4e0f-bd60-5d8744ff49ed",
   "metadata": {},
   "source": [
    "- 열 순서 변경"
   ]
  },
  {
   "cell_type": "code",
   "execution_count": 284,
   "id": "af2c4fad-5c52-432e-881c-4c018dfe01e1",
   "metadata": {},
   "outputs": [],
   "source": [
    "hiv = hiv[['country'\t,'infected_mean'\t,'dead_mean','infected_median','infected_min'\n",
    "           ,'infected_max','dead_median' ,'dead_min', 'dead_max']]"
   ]
  },
  {
   "cell_type": "markdown",
   "id": "c36c5186-1824-467d-8137-03e2b5a778d2",
   "metadata": {},
   "source": [
    "- 열 추가\n",
    "    > insert() , 단순 행 추가  \n",
    "    > insert는 열 인덱스를 기준으로 원하는 위치에 값을 추가할 수 있다."
   ]
  },
  {
   "cell_type": "code",
   "execution_count": 298,
   "id": "1c00b6ce-5bdc-4375-a85c-62ae7d26ce39",
   "metadata": {},
   "outputs": [],
   "source": [
    "hiv.drop(columns='mortality_rate',inplace = True)"
   ]
  },
  {
   "cell_type": "code",
   "execution_count": 300,
   "id": "52211eef-2342-4162-afc6-95a6262af1c3",
   "metadata": {},
   "outputs": [
    {
     "data": {
      "text/html": [
       "<div>\n",
       "<style scoped>\n",
       "    .dataframe tbody tr th:only-of-type {\n",
       "        vertical-align: middle;\n",
       "    }\n",
       "\n",
       "    .dataframe tbody tr th {\n",
       "        vertical-align: top;\n",
       "    }\n",
       "\n",
       "    .dataframe thead th {\n",
       "        text-align: right;\n",
       "    }\n",
       "</style>\n",
       "<table border=\"1\" class=\"dataframe\">\n",
       "  <thead>\n",
       "    <tr style=\"text-align: right;\">\n",
       "      <th></th>\n",
       "      <th>country</th>\n",
       "      <th>infected_mean</th>\n",
       "      <th>dead_mean</th>\n",
       "      <th>mortality_rate</th>\n",
       "      <th>infected_median</th>\n",
       "      <th>infected_min</th>\n",
       "      <th>infected_max</th>\n",
       "      <th>dead_median</th>\n",
       "      <th>dead_min</th>\n",
       "      <th>dead_max</th>\n",
       "    </tr>\n",
       "  </thead>\n",
       "  <tbody>\n",
       "    <tr>\n",
       "      <th>0</th>\n",
       "      <td>Afghanistan</td>\n",
       "      <td>3975.0</td>\n",
       "      <td>366.666667</td>\n",
       "      <td>9.224319</td>\n",
       "      <td>3975.0</td>\n",
       "      <td>2325.0</td>\n",
       "      <td>6425.0</td>\n",
       "      <td>366.666667</td>\n",
       "      <td>166.666667</td>\n",
       "      <td>536.666667</td>\n",
       "    </tr>\n",
       "    <tr>\n",
       "      <th>1</th>\n",
       "      <td>Algeria</td>\n",
       "      <td>7175.0</td>\n",
       "      <td>166.666667</td>\n",
       "      <td>2.322880</td>\n",
       "      <td>7175.0</td>\n",
       "      <td>6700.0</td>\n",
       "      <td>7650.0</td>\n",
       "      <td>166.666667</td>\n",
       "      <td>133.333333</td>\n",
       "      <td>166.666667</td>\n",
       "    </tr>\n",
       "    <tr>\n",
       "      <th>2</th>\n",
       "      <td>Angola</td>\n",
       "      <td>196750.0</td>\n",
       "      <td>9600.000000</td>\n",
       "      <td>4.879288</td>\n",
       "      <td>196750.0</td>\n",
       "      <td>165500.0</td>\n",
       "      <td>230000.0</td>\n",
       "      <td>9600.000000</td>\n",
       "      <td>6766.666667</td>\n",
       "      <td>12466.666667</td>\n",
       "    </tr>\n",
       "    <tr>\n",
       "      <th>3</th>\n",
       "      <td>Argentina</td>\n",
       "      <td>99750.0</td>\n",
       "      <td>1566.666667</td>\n",
       "      <td>1.570593</td>\n",
       "      <td>99750.0</td>\n",
       "      <td>89250.0</td>\n",
       "      <td>108750.0</td>\n",
       "      <td>1566.666667</td>\n",
       "      <td>1266.666667</td>\n",
       "      <td>1933.333333</td>\n",
       "    </tr>\n",
       "    <tr>\n",
       "      <th>4</th>\n",
       "      <td>Armenia</td>\n",
       "      <td>2612.5</td>\n",
       "      <td>166.666667</td>\n",
       "      <td>6.379585</td>\n",
       "      <td>2612.5</td>\n",
       "      <td>2095.0</td>\n",
       "      <td>3400.0</td>\n",
       "      <td>166.666667</td>\n",
       "      <td>133.333333</td>\n",
       "      <td>166.666667</td>\n",
       "    </tr>\n",
       "  </tbody>\n",
       "</table>\n",
       "</div>"
      ],
      "text/plain": [
       "       country  infected_mean    dead_mean  mortality_rate  infected_median  \\\n",
       "0  Afghanistan         3975.0   366.666667        9.224319           3975.0   \n",
       "1      Algeria         7175.0   166.666667        2.322880           7175.0   \n",
       "2       Angola       196750.0  9600.000000        4.879288         196750.0   \n",
       "3    Argentina        99750.0  1566.666667        1.570593          99750.0   \n",
       "4      Armenia         2612.5   166.666667        6.379585           2612.5   \n",
       "\n",
       "   infected_min  infected_max  dead_median     dead_min      dead_max  \n",
       "0        2325.0        6425.0   366.666667   166.666667    536.666667  \n",
       "1        6700.0        7650.0   166.666667   133.333333    166.666667  \n",
       "2      165500.0      230000.0  9600.000000  6766.666667  12466.666667  \n",
       "3       89250.0      108750.0  1566.666667  1266.666667   1933.333333  \n",
       "4        2095.0        3400.0   166.666667   133.333333    166.666667  "
      ]
     },
     "execution_count": 300,
     "metadata": {},
     "output_type": "execute_result"
    }
   ],
   "source": [
    "hiv.insert(loc = 3, column='mortality_rate' , value= ( hiv['dead_mean']/hiv['infected_mean']*100) )\n",
    "\n",
    "\n",
    "# 확인\n",
    "hiv.head()"
   ]
  },
  {
   "cell_type": "markdown",
   "id": "b9491b80-ad66-4ad5-876a-95c759e7895c",
   "metadata": {},
   "source": [
    "- 원_핫 인코딩\n",
    "    > pd.get_dummies()를 이용해서 할 수 있음.  "
   ]
  },
  {
   "cell_type": "markdown",
   "id": "481bfcfb-0e9e-4f35-8322-94ef2e1c1ced",
   "metadata": {},
   "source": [
    "- 범주화  \n",
    "    > pd.cut()  -> 내가 구간을 정할 수 있고, 구간 안 원소개수는 다 다름  \n",
    "    > pd.qcut()  -> 구간 갯수를 입력받으면 각 구간마다 동일한 원소를 가질 수 있음"
   ]
  },
  {
   "cell_type": "code",
   "execution_count": 302,
   "id": "056f1229-da32-4b4a-af13-ed93cc32b37c",
   "metadata": {},
   "outputs": [
    {
     "data": {
      "text/html": [
       "<div>\n",
       "<style scoped>\n",
       "    .dataframe tbody tr th:only-of-type {\n",
       "        vertical-align: middle;\n",
       "    }\n",
       "\n",
       "    .dataframe tbody tr th {\n",
       "        vertical-align: top;\n",
       "    }\n",
       "\n",
       "    .dataframe thead th {\n",
       "        text-align: right;\n",
       "    }\n",
       "</style>\n",
       "<table border=\"1\" class=\"dataframe\">\n",
       "  <thead>\n",
       "    <tr style=\"text-align: right;\">\n",
       "      <th></th>\n",
       "      <th>country</th>\n",
       "      <th>infected_mean</th>\n",
       "      <th>dead_mean</th>\n",
       "      <th>mortality_rate</th>\n",
       "      <th>infected_median</th>\n",
       "      <th>infected_min</th>\n",
       "      <th>infected_max</th>\n",
       "      <th>dead_median</th>\n",
       "      <th>dead_min</th>\n",
       "      <th>dead_max</th>\n",
       "      <th>level</th>\n",
       "    </tr>\n",
       "  </thead>\n",
       "  <tbody>\n",
       "    <tr>\n",
       "      <th>0</th>\n",
       "      <td>Afghanistan</td>\n",
       "      <td>3975.0</td>\n",
       "      <td>366.666667</td>\n",
       "      <td>9.224319</td>\n",
       "      <td>3975.0</td>\n",
       "      <td>2325.0</td>\n",
       "      <td>6425.0</td>\n",
       "      <td>366.666667</td>\n",
       "      <td>166.666667</td>\n",
       "      <td>536.666667</td>\n",
       "      <td>high</td>\n",
       "    </tr>\n",
       "    <tr>\n",
       "      <th>1</th>\n",
       "      <td>Algeria</td>\n",
       "      <td>7175.0</td>\n",
       "      <td>166.666667</td>\n",
       "      <td>2.322880</td>\n",
       "      <td>7175.0</td>\n",
       "      <td>6700.0</td>\n",
       "      <td>7650.0</td>\n",
       "      <td>166.666667</td>\n",
       "      <td>133.333333</td>\n",
       "      <td>166.666667</td>\n",
       "      <td>low</td>\n",
       "    </tr>\n",
       "    <tr>\n",
       "      <th>2</th>\n",
       "      <td>Angola</td>\n",
       "      <td>196750.0</td>\n",
       "      <td>9600.000000</td>\n",
       "      <td>4.879288</td>\n",
       "      <td>196750.0</td>\n",
       "      <td>165500.0</td>\n",
       "      <td>230000.0</td>\n",
       "      <td>9600.000000</td>\n",
       "      <td>6766.666667</td>\n",
       "      <td>12466.666667</td>\n",
       "      <td>middle</td>\n",
       "    </tr>\n",
       "    <tr>\n",
       "      <th>3</th>\n",
       "      <td>Argentina</td>\n",
       "      <td>99750.0</td>\n",
       "      <td>1566.666667</td>\n",
       "      <td>1.570593</td>\n",
       "      <td>99750.0</td>\n",
       "      <td>89250.0</td>\n",
       "      <td>108750.0</td>\n",
       "      <td>1566.666667</td>\n",
       "      <td>1266.666667</td>\n",
       "      <td>1933.333333</td>\n",
       "      <td>low</td>\n",
       "    </tr>\n",
       "    <tr>\n",
       "      <th>4</th>\n",
       "      <td>Armenia</td>\n",
       "      <td>2612.5</td>\n",
       "      <td>166.666667</td>\n",
       "      <td>6.379585</td>\n",
       "      <td>2612.5</td>\n",
       "      <td>2095.0</td>\n",
       "      <td>3400.0</td>\n",
       "      <td>166.666667</td>\n",
       "      <td>133.333333</td>\n",
       "      <td>166.666667</td>\n",
       "      <td>high</td>\n",
       "    </tr>\n",
       "  </tbody>\n",
       "</table>\n",
       "</div>"
      ],
      "text/plain": [
       "       country  infected_mean    dead_mean  mortality_rate  infected_median  \\\n",
       "0  Afghanistan         3975.0   366.666667        9.224319           3975.0   \n",
       "1      Algeria         7175.0   166.666667        2.322880           7175.0   \n",
       "2       Angola       196750.0  9600.000000        4.879288         196750.0   \n",
       "3    Argentina        99750.0  1566.666667        1.570593          99750.0   \n",
       "4      Armenia         2612.5   166.666667        6.379585           2612.5   \n",
       "\n",
       "   infected_min  infected_max  dead_median     dead_min      dead_max   level  \n",
       "0        2325.0        6425.0   366.666667   166.666667    536.666667    high  \n",
       "1        6700.0        7650.0   166.666667   133.333333    166.666667     low  \n",
       "2      165500.0      230000.0  9600.000000  6766.666667  12466.666667  middle  \n",
       "3       89250.0      108750.0  1566.666667  1266.666667   1933.333333     low  \n",
       "4        2095.0        3400.0   166.666667   133.333333    166.666667    high  "
      ]
     },
     "execution_count": 302,
     "metadata": {},
     "output_type": "execute_result"
    }
   ],
   "source": [
    "hiv['level'] = pd.cut(hiv['mortality_rate'],bins = [-np.inf , 3,6 , np.inf] , labels =['low','middle','high'])\n",
    "\n",
    "#확인\n",
    "hiv.head()"
   ]
  },
  {
   "cell_type": "markdown",
   "id": "996c5ca1-75f0-479d-8a3b-d71f3f5f83ca",
   "metadata": {},
   "source": [
    "(참고)  \n",
    "- df['새 변수 이름'] = df['연속형 변수'].rolling(window =(묶음 갯수), min_periods=(최소 몇개부터 계산 적용할 것인가)).연산 메소드.shift()  \n",
    "- shift()의 경우 입력된 값만큼 행/열을 이동  \n",
    "\n",
    "- pivot <--> melt"
   ]
  }
 ],
 "metadata": {
  "kernelspec": {
   "display_name": "Python 3 (ipykernel)",
   "language": "python",
   "name": "python3"
  },
  "language_info": {
   "codemirror_mode": {
    "name": "ipython",
    "version": 3
   },
   "file_extension": ".py",
   "mimetype": "text/x-python",
   "name": "python",
   "nbconvert_exporter": "python",
   "pygments_lexer": "ipython3",
   "version": "3.12.4"
  }
 },
 "nbformat": 4,
 "nbformat_minor": 5
}
