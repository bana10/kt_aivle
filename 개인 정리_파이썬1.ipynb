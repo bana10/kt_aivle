{
 "cells": [
  {
   "cell_type": "markdown",
   "id": "53ea9890-bb07-407c-9052-c068026aeb55",
   "metadata": {},
   "source": [
    "# 1. 기초 자료형 정리"
   ]
  },
  {
   "cell_type": "markdown",
   "id": "8c6549e7-2992-432a-9e6c-12aecf7432a9",
   "metadata": {},
   "source": [
    "## 변수와 식별자"
   ]
  },
  {
   "cell_type": "markdown",
   "id": "d49c575d-6c97-4127-8122-4987beb24db4",
   "metadata": {},
   "source": [
    " - 변수  : 데이터를 저장하는 공간  \n",
    "-  식별자 : 변수, 함수, 클래스 등 프로그래밍 요소 이름  --> 변수를 가리키는 이름\n",
    "\n",
    "---\n",
    "\n",
    "식별자 규칙  \n",
    "> - 숫자로 시작할 수 없다.\n",
    "> - 대소문자 구분 가능.\n",
    "> - 키워드 사용안됨."
   ]
  },
  {
   "cell_type": "code",
   "execution_count": 21,
   "id": "837070d2-c756-4fad-a952-1d01f12da395",
   "metadata": {},
   "outputs": [
    {
     "name": "stdout",
     "output_type": "stream",
     "text": [
      "['False', 'None', 'True', 'and', 'as', 'assert', 'async', 'await', 'break', 'class', 'continue', 'def', 'del', 'elif', 'else', 'except', 'finally', 'for', 'from', 'global', 'if', 'import', 'in', 'is', 'lambda', 'nonlocal', 'not', 'or', 'pass', 'raise', 'return', 'try', 'while', 'with', 'yield'] "
     ]
    }
   ],
   "source": [
    "# 키워드 확인 방법\n",
    "import keyword\n",
    "print(keyword.kwlist,end=' ')"
   ]
  },
  {
   "cell_type": "markdown",
   "id": "37cfa85e-1d45-46df-a429-6e62313aa5cd",
   "metadata": {},
   "source": [
    "## 연산자"
   ]
  },
  {
   "cell_type": "markdown",
   "id": "e0eb7bbc-7bad-41c8-84c2-83ae2dba11de",
   "metadata": {},
   "source": [
    "- 산술 연산자 : + , - , / , // , % , *, **\n",
    "- 식별 연산자 : is , is not  --> 객체가 같은지 구분\n",
    "- 비교 연산자 : ==,  !=  --> 값이 같은지 구분  \n",
    "- 논리 연산자 : and , or  , not  -> True 나 False 인 부울값을 반환\n",
    "- 비트 연산자 : & , | , ^(xor) , ~(not) , << , >>\n",
    "  \n",
    "                      정수형 데이터에 한하여 비트 단위조작 가능  \n",
    "                      1을 True, 0을 False로 생각할 때 이 연산자는 각 비트에 대해 and 논리 연산과 비슷한 일을 수행.  \n",
    "                      이때 논리연산과 구분하기 위해 비트 연산자는 대문자로 AND, OR, XOR 을 쓴다.\n",
    "\n",
    "  "
   ]
  },
  {
   "cell_type": "code",
   "execution_count": 29,
   "id": "a77b1a5a-8ae3-408f-8ec0-aa92d6265de7",
   "metadata": {},
   "outputs": [
    {
     "name": "stdout",
     "output_type": "stream",
     "text": [
      "0b1010\n"
     ]
    }
   ],
   "source": [
    "# 비트 연산자 사용하는 예시 \n",
    "# 저수준 프로그래밍이나 성능 최적화가 필요한 경우에 많이 사용\n",
    "\n",
    "# 특정 비트를 설정하는 예시\n",
    "data = 0b10101010\n",
    "mask = 0b00001111\n",
    "compressed_data = data & mask  # 하위 4비트만 남김\n",
    "\n",
    "print(bin(compressed_data))  # 0b1010\n"
   ]
  },
  {
   "cell_type": "markdown",
   "id": "dd93777e-6bcc-4f1b-a247-572dcdf0535f",
   "metadata": {},
   "source": [
    "## 문자열 "
   ]
  },
  {
   "cell_type": "markdown",
   "id": "06170d87-2fd9-4b48-be87-0c5240064c54",
   "metadata": {},
   "source": [
    "- 따옴표를 연달아 써서도 문자열이 된다. "
   ]
  },
  {
   "cell_type": "code",
   "execution_count": 3,
   "id": "f386ea1e-a3b9-4a3d-a4b3-6aed20ee06a0",
   "metadata": {},
   "outputs": [
    {
     "name": "stdout",
     "output_type": "stream",
     "text": [
      "꽃잎에 이슬  님을 닮았네  너의 하늘 \n"
     ]
    }
   ],
   "source": [
    "ans = '꽃잎에 이슬 ' ' 님을 닮았네 ' ' 너의 하늘 '\n",
    "print(ans)"
   ]
  },
  {
   "cell_type": "markdown",
   "id": "aa435ceb-bbf8-4021-9b68-488582c81980",
   "metadata": {},
   "source": [
    "- 문자열을 콤마로 구분하여 나열하면 튜플이 된다."
   ]
  },
  {
   "cell_type": "code",
   "execution_count": 40,
   "id": "48d15c91-9899-4289-844e-9f6e0a5c4dcd",
   "metadata": {},
   "outputs": [
    {
     "name": "stdout",
     "output_type": "stream",
     "text": [
      "('독서', '자수')\n"
     ]
    }
   ],
   "source": [
    "ans = \"독서\" ,'자수'\n",
    "print(ans)"
   ]
  },
  {
   "cell_type": "markdown",
   "id": "19583347-6d02-46b2-9e89-031a1d3596f7",
   "metadata": {},
   "source": [
    "- iterable한 객체(리스트,문자열, 딕셔너리, 튜플 등) 앞에 *를 표시하면 "
   ]
  },
  {
   "cell_type": "code",
   "execution_count": 99,
   "id": "b9c4d5ad-50ad-4212-b72e-9ca1800125bd",
   "metadata": {},
   "outputs": [
    {
     "name": "stdout",
     "output_type": "stream",
     "text": [
      "토 끼 는   b u n n y\n"
     ]
    }
   ],
   "source": [
    "ans = \"토끼는 bunny\"\n",
    "print(*ans)"
   ]
  },
  {
   "cell_type": "markdown",
   "id": "405c4265-093d-4794-be95-62f05efaa4ad",
   "metadata": {},
   "source": [
    "- 문자의 앞뒤에 따옴표 3개를 달거나, 문자사이 \\n을 입력하면 여러줄을 입력할 수있다.\n",
    "- print()실행시 적용됨"
   ]
  },
  {
   "cell_type": "code",
   "execution_count": 63,
   "id": "4d435217-cc34-4b19-8d5b-2d5dedd09bba",
   "metadata": {},
   "outputs": [
    {
     "data": {
      "text/plain": [
       "'\\n이렇게 정리할 수 있는 \\n시간이 있단건\\n좋은거 같아.\\n'"
      ]
     },
     "execution_count": 63,
     "metadata": {},
     "output_type": "execute_result"
    }
   ],
   "source": [
    "ans = \"\"\"\n",
    "이렇게 정리할 수 있는 \n",
    "시간이 있단건\n",
    "좋은거 같아.\n",
    "\"\"\"\n",
    "ans"
   ]
  },
  {
   "cell_type": "code",
   "execution_count": 65,
   "id": "0f934622-a84a-4dc9-9a0c-62622173a464",
   "metadata": {},
   "outputs": [
    {
     "name": "stdout",
     "output_type": "stream",
     "text": [
      "\n",
      "이렇게 정리할 수 있는 \n",
      "시간이 있단건\n",
      "좋은거 같아.\n",
      "\n"
     ]
    }
   ],
   "source": [
    "print(ans)"
   ]
  },
  {
   "cell_type": "markdown",
   "id": "8d84e4b1-134e-438c-a5b7-90b5ac040c7b",
   "metadata": {},
   "source": [
    "- 인덱싱, 슬라이싱 가능\n",
    "- 그러나 변경가능한 객체가 아니기에 값 수정은 안됨"
   ]
  },
  {
   "cell_type": "code",
   "execution_count": 76,
   "id": "b3bedd78-c26f-4bd2-88cc-1dd47e7577c3",
   "metadata": {},
   "outputs": [
    {
     "name": "stdout",
     "output_type": "stream",
     "text": [
      "15\n",
      "뚱이\n"
     ]
    },
    {
     "ename": "TypeError",
     "evalue": "'str' object does not support item assignment",
     "output_type": "error",
     "traceback": [
      "\u001b[1;31m---------------------------------------------------------------------------\u001b[0m",
      "\u001b[1;31mTypeError\u001b[0m                                 Traceback (most recent call last)",
      "Cell \u001b[1;32mIn[76], line 5\u001b[0m\n\u001b[0;32m      2\u001b[0m \u001b[38;5;28mprint\u001b[39m(\u001b[38;5;28mlen\u001b[39m(ans))\n\u001b[0;32m      3\u001b[0m \u001b[38;5;28mprint\u001b[39m(ans[\u001b[38;5;241m5\u001b[39m:\u001b[38;5;241m7\u001b[39m])\n\u001b[1;32m----> 5\u001b[0m ans[\u001b[38;5;241m5\u001b[39m:\u001b[38;5;241m7\u001b[39m]\u001b[38;5;241m=\u001b[39m \u001b[38;5;124m\"\u001b[39m\u001b[38;5;124m뚠뚠\u001b[39m\u001b[38;5;124m\"\u001b[39m\n\u001b[0;32m      6\u001b[0m \u001b[38;5;28mprint\u001b[39m(ans)\n",
      "\u001b[1;31mTypeError\u001b[0m: 'str' object does not support item assignment"
     ]
    }
   ],
   "source": [
    "ans =\"인간의 몸뚱이 너무 나약하다\"\n",
    "print(len(ans))\n",
    "print(ans[5:7])\n",
    "\n",
    "ans[5:7]= \"뚠뚠\"\n",
    "print(ans)"
   ]
  },
  {
   "cell_type": "markdown",
   "id": "69284bea-aa66-441e-93eb-50310b7f67c5",
   "metadata": {},
   "source": [
    "- 메서드"
   ]
  },
  {
   "cell_type": "code",
   "execution_count": 133,
   "id": "5f0ade14-4cfe-4e3f-9db9-8b46ab55c5ff",
   "metadata": {
    "scrolled": true
   },
   "outputs": [
    {
     "name": "stdout",
     "output_type": "stream",
     "text": [
      "WHATEVER YOU WANT, BABY, CHOOSE YOUR FIGHTER \n",
      "\n",
      "whatever you want, baby, choose your fighter \n",
      "\n",
      "Whatever You Want, Baby, Choose Your Fighter \n",
      "\n",
      "Whatever you want, baby, choose your fighter \n",
      "\n",
      "Whatever you want, darling, choose your fighter \n",
      "\n",
      "['Whatever', 'you', 'want,', 'baby,', 'choose', 'your', 'fighter'] \n",
      "\n",
      "Whatever / you / want, / baby, / choose / your / fighter \n",
      "\n"
     ]
    }
   ],
   "source": [
    "ans = \"Whatever you want, baby, choose your fighter\"\n",
    "\n",
    "# upper()  -> 문장 전체 대문자로 변환\n",
    "print(ans.upper(),'\\n')\n",
    "\n",
    "# lower()  -> 문장 전체 소문자로 변환\n",
    "print(ans.lower(),'\\n')\n",
    "\n",
    "# title()  -> 각 단어 첫글자만 대문자, 나머진 소문자로 변환\n",
    "print(ans.title(),'\\n')\n",
    "\n",
    "# capitalize()  -> 문장 맨 앞글자만 대문자 변환\n",
    "print(ans.capitalize(),'\\n')\n",
    "\n",
    "#replace( before , after )   -> 단어 변경\n",
    "print( ans.replace('baby','darling') , '\\n')\n",
    "\n",
    "# split()  -> 단어 분리 , 뛰어쓰기가 기본값\n",
    "print( ans.split() , '\\n')\n",
    "\n",
    "#join()  -> 문장 연결\n",
    "print(\" / \".join(ans.split()) , '\\n')\n",
    "\n"
   ]
  },
  {
   "cell_type": "code",
   "execution_count": 135,
   "id": "9f0dc00c-fdf4-4911-b73d-5e7e1b5b2e84",
   "metadata": {},
   "outputs": [
    {
     "name": "stdout",
     "output_type": "stream",
     "text": [
      "[ bunny      ] \n",
      "\n",
      "[      bunny ] \n",
      "\n",
      "[   bunny    ] \n",
      "\n"
     ]
    }
   ],
   "source": [
    "ans = \"bunny\"\n",
    "\n",
    "#ljust()  -> 왼쪽으로 정렬\n",
    "print('[' , ans.ljust(10) , ']' , '\\n')\n",
    "\n",
    "# rjust()  -> 오른쪽으로 정렬\n",
    "print('[' , ans.rjust(10) , ']' , '\\n')\n",
    "\n",
    "# center()   -> 문장 한가운데 정렬\n",
    "print('[' , ans.center(10) , ']' , '\\n')\n",
    "\n"
   ]
  },
  {
   "cell_type": "code",
   "execution_count": 137,
   "id": "3b71ecbc-8d0f-4e13-9b01-b6e036d67958",
   "metadata": {},
   "outputs": [
    {
     "name": "stdout",
     "output_type": "stream",
     "text": [
      "&#$&#ㅇㅅㅇr3*****%&% \n",
      "\n",
      "$&#ㅇㅅㅇr3*****%&%&& \n",
      "\n",
      "#$&#ㅇㅅㅇr3*****%&% \n",
      "\n"
     ]
    }
   ],
   "source": [
    "ans = '&#$&#ㅇㅅㅇr3*****%&%&&'\n",
    "\n",
    "#rstrip()  -> 오른쪽 특수문자 지우기 \n",
    "print(ans.rstrip('&') , '\\n')\n",
    "\n",
    "#lstrip()  -> 왼쪽 특수문자 지우기\n",
    "print(ans.lstrip('&#') , '\\n')\n",
    "\n",
    "#strip()  -> 양 사이드 특수문자 지우기\n",
    "print(ans.strip(\"&\") , '\\n')\n",
    "\n",
    "\n",
    "# strip으로 지우는 경우, \n",
    "# 지우다 다른 특수문자를 만나면 거기서 지우는 시점이 멈춰짐."
   ]
  },
  {
   "cell_type": "markdown",
   "id": "04c5ee70-681b-41ff-9ca5-8a93fef6fe49",
   "metadata": {},
   "source": [
    "# 2. 리스트"
   ]
  },
  {
   "cell_type": "markdown",
   "id": "699ddfd0-62d7-4597-aa21-1ea916d8400b",
   "metadata": {},
   "source": [
    "- 요소가 반복 가능(iterable) , 변경 가능(mutable) 한 객체\n",
    "  > 인덱싱, 슬라이싱 가능  --> iterable  \n",
    "  > 수정, 삭제, 추가 가능  --> mutable "
   ]
  },
  {
   "cell_type": "markdown",
   "id": "5ee1ab82-1da5-40b1-b962-887a8a7f9a47",
   "metadata": {},
   "source": [
    "- 리스트를 더하면 단순 옆으로 길게 이어짐.\n",
    "- 곱하면 곱한 숫자만큼 반복함."
   ]
  },
  {
   "cell_type": "markdown",
   "id": "2d66b610-d752-47b0-89cd-7648d40bc267",
   "metadata": {},
   "source": [
    "## 리스트 메서드"
   ]
  },
  {
   "cell_type": "code",
   "execution_count": 45,
   "id": "3ac4d56c-e28a-4458-9ef7-ff7bec1fb9d8",
   "metadata": {},
   "outputs": [
    {
     "name": "stdout",
     "output_type": "stream",
     "text": [
      "['토끼', '여우', '햄스터', '뱀'] \n",
      "\n",
      "['토끼', '여우', '햄스터', '뱀', [76, 83], '호랑이'] \n",
      "\n",
      "['토끼', '여우', '햄스터', '용', '뱀', [76, 83], '호랑이']\n"
     ]
    }
   ],
   "source": [
    "#  추가 메서드\n",
    "pra_list = ['토끼','여우','햄스터']\n",
    "\n",
    "# append() --> 요소 한 개를 추가\n",
    "pra_list.append('뱀')\n",
    "print(pra_list,'\\n')\n",
    "\n",
    "# extend()  --> iterable한 객체를 개별적으로 추가함\n",
    "pra_list.extend([[76,83],'호랑이'])\n",
    "print(pra_list,'\\n')\n",
    "\n",
    "# insert(위치, 값)  --> 원하는 위치에 값을 추가\n",
    "pra_list.insert(3,\"용\")\n",
    "print(pra_list)"
   ]
  },
  {
   "cell_type": "code",
   "execution_count": 108,
   "id": "73653ac4-0259-426f-a085-cbca946597fd",
   "metadata": {},
   "outputs": [
    {
     "name": "stdout",
     "output_type": "stream",
     "text": [
      "['토끼', '여우', '햄스터', '용', '뱀', '호랑이'] \n",
      "\n",
      "['햄스터', '용', '뱀', '호랑이'] \n",
      "\n",
      "용\n",
      "['햄스터', '뱀', '호랑이'] \n",
      "\n",
      "['뱀', '호랑이'] \n",
      "\n",
      "[]\n"
     ]
    }
   ],
   "source": [
    "# 삭제 메서드\n",
    "pra_list = ['토끼', '여우', '햄스터', '용', '뱀', [76, 83], '호랑이']\n",
    "\n",
    "# del  --> 인덱스를 이요하여 요소 한 개를 지울 수도, 슬라이싱을 이용해  여러개를 지울 수 있다.\n",
    "del pra_list[-2]\n",
    "print(pra_list,'\\n')\n",
    "\n",
    "del pra_list[:2]\n",
    "print(pra_list,'\\n')\n",
    "\n",
    "# pop  -> 삭제하는 요소를 반환하며 삭제, 인덱스 사용\n",
    "temp = pra_list.pop(1)\n",
    "print(temp)\n",
    "print(pra_list,'\\n')\n",
    "\n",
    "# remove  -> 값을 이용하여 삭제. 한번에 한개만 가능\n",
    "pra_list.remove('햄스터')\n",
    "print(pra_list,'\\n')\n",
    "\n",
    "# clear()  -> 리스트 전부 삭제\n",
    "pra_list.clear()\n",
    "print(pra_list)\n"
   ]
  },
  {
   "cell_type": "code",
   "execution_count": null,
   "id": "d29757be-cc6c-4ad1-bb43-90d814df62cc",
   "metadata": {},
   "outputs": [],
   "source": [
    "# 기타 메서스\n",
    "pra_list = [1,2,3,4,1,5,1,2,4,5,6,1,2]\n",
    "\n",
    "#  count()  -> 갯수 세기\n",
    "print(pra_list.count(1),'\\n')\n",
    "\n",
    "# index() -> 그 값이 있는 첫번째 위치 알려줌\n",
    "print(pra_list.index(1),'\\n')\n",
    "\n",
    "# sort()  -> 오름차순으로 정렬\n",
    "pra_list.sort()\n",
    "print(pra_list,'\\n')\n",
    "\n",
    "# reverse()  -> 내림차순으로 정렬\n",
    "pra_list.reverse()\n",
    "print(pra_list,'\\n')"
   ]
  },
  {
   "cell_type": "markdown",
   "id": "0239e23d-19bc-47cb-b264-2fcdd3d22a8e",
   "metadata": {},
   "source": [
    "# 3.  튜플"
   ]
  },
  {
   "cell_type": "markdown",
   "id": "5d7b348d-7dcb-4756-8342-d05f6f12a5f5",
   "metadata": {},
   "source": [
    "- 요소가 반복 가능(iterable) , 변경 불가능(immutable) 한 객체\n",
    "  > 인덱싱, 슬라이싱 가능  --> iterable  \n",
    "  > 수정, 삭제, 추가  불가능  --> immutable "
   ]
  },
  {
   "cell_type": "markdown",
   "id": "18a4cc27-3bcd-4f26-b9a4-d388d127ecae",
   "metadata": {},
   "source": [
    "- 리스트와 같이 튜플간의 덧셈, 곱셈은 옆으로 길어지거나 반복을 할 뿐이다."
   ]
  },
  {
   "cell_type": "code",
   "execution_count": 92,
   "id": "2d345435-a0d9-4016-b110-4dd1aabd9958",
   "metadata": {},
   "outputs": [
    {
     "name": "stdout",
     "output_type": "stream",
     "text": [
      "<class 'tuple'>\n"
     ]
    }
   ],
   "source": [
    "#  소괄호 없이도 선언 가능\n",
    "hello =1,\n",
    "\n",
    "# 확인\n",
    "print(type(hello))\n"
   ]
  },
  {
   "cell_type": "code",
   "execution_count": 98,
   "id": "36ba942e-376c-4ed8-a119-9c2c941b74da",
   "metadata": {},
   "outputs": [
    {
     "name": "stdout",
     "output_type": "stream",
     "text": [
      "(1, 2, 3, 4, 5, [1, 2, 3, 4]) \n",
      "\n",
      "(1, 2, 3, 4, 5, [10, 2, 3, 4])\n"
     ]
    }
   ],
   "source": [
    "a= 1,2,3,4,5,[1,2,3,4]\n",
    "print(a,'\\n')\n",
    "\n",
    "#튜플안의 리스트 내용물은 바꿀 수 있음  --> 리스트는 mutable 한 객체니까\n",
    "a[-1][0] =10\n",
    "print(a)"
   ]
  },
  {
   "cell_type": "markdown",
   "id": "1d5797bd-92fd-45ff-8c8a-78b292a6415a",
   "metadata": {},
   "source": [
    "# 4. 집합"
   ]
  },
  {
   "cell_type": "markdown",
   "id": "3487abc1-48bf-4daf-aac0-89581ae36edd",
   "metadata": {},
   "source": [
    "- 요소가 반복가능( iterable )하나 집합은 중복을 허용하지 않고, 순서가 정해지지 않기에 인덱싱, 슬라이싱 불가능.\n",
    "- 값의 변경은 가능( mutable )하기때문에 추가, 삭제는 가능.\n",
    "  > 중복허용 안됨 & 순서가 없음  -> iterable하나 인덱싱, 슬라이싱 불가, 값 수정도 안됨(순서가 정해져있지 않기에 어떤 값을 수정할거냐가 안되는 것).  \n",
    "  > 추가, 삭제 가능  -> mutable  \n",
    "\n",
    "-  값의 중복을 제거할 때 주로 사용"
   ]
  },
  {
   "cell_type": "markdown",
   "id": "faeabcb4-0c2b-40ec-aa58-493b640401f9",
   "metadata": {},
   "source": [
    "## 집합 메서드"
   ]
  },
  {
   "cell_type": "code",
   "execution_count": 120,
   "id": "49a3e21c-bff1-4224-8666-a6fbd9ea7103",
   "metadata": {},
   "outputs": [
    {
     "name": "stdout",
     "output_type": "stream",
     "text": [
      "{'토끼', '거위', '뱀', '호랑이', '용', '여우', '햄스터'} \n",
      "\n",
      "{'토끼', '나비', '거위', '뱀', '호랑이', '곰', '용', '여우', '햄스터'} \n",
      "\n"
     ]
    }
   ],
   "source": [
    "# 추가\n",
    "pra_list = ['토끼', '여우', '햄스터', '용', '뱀',  '호랑이']\n",
    "pra_set = set(pra_list)\n",
    "\n",
    "# add()   -> 값 한개를 추가\n",
    "pra_set.add('거위')\n",
    "print(pra_set,'\\n')\n",
    "\n",
    "# update()   -> 여러개 값을 추가할 때 사용하며, iterable한 값만 추가가능\n",
    "pra_set.update(['곰','나비'])\n",
    "print(pra_set,'\\n')"
   ]
  },
  {
   "cell_type": "code",
   "execution_count": 130,
   "id": "4fe44091-e806-47af-b93a-6868ba111063",
   "metadata": {},
   "outputs": [
    {
     "name": "stdout",
     "output_type": "stream",
     "text": [
      "토끼\n",
      "{'나비', '거위', '뱀', '호랑이', '곰', '용', '여우', '햄스터'} \n",
      "\n",
      "{'나비', '거위', '뱀', '호랑이', '곰', '여우', '햄스터'} \n",
      "\n",
      "{'나비', '거위', '뱀', '호랑이', '곰', '여우', '햄스터'} \n",
      "\n",
      "set()\n"
     ]
    }
   ],
   "source": [
    "# 삭제\n",
    "pra_set = {'토끼', '나비', '거위', '뱀', '호랑이', '곰', '용', '여우', '햄스터'} \n",
    "\n",
    "# pop()  -> 순서가 없기에 인덱스를 넣어서 특정값 삭제 불가. 무작위로 값 하나 반환하며 삭제\n",
    "temp = pra_set.pop()\n",
    "print(temp)\n",
    "print(pra_set,'\\n')\n",
    "\n",
    "# remove(값)  -> 특정값을 없애고 싶다면 사용. 없는걸 삭제하면 에러뜸\n",
    "pra_set.remove('용')\n",
    "print(pra_set,'\\n')\n",
    "\n",
    "# discard(값)  -> remove의 리뉴얼 버전 같은 놈. 없는 거 삭제요청하면 무시함.\n",
    "pra_set.discard('용')\n",
    "print(pra_set,'\\n')\n",
    "\n",
    "# clear ()  -> 모든걸 지움\n",
    "pra_set.clear()\n",
    "print(pra_set)"
   ]
  },
  {
   "cell_type": "markdown",
   "id": "7eccf168-bc77-4f9a-ba14-2e893f55e10d",
   "metadata": {},
   "source": [
    "## 집합연산 활용"
   ]
  },
  {
   "cell_type": "code",
   "execution_count": 20,
   "id": "8cc305dc-8079-4c7a-afa9-4fb8cc7ea1c5",
   "metadata": {},
   "outputs": [
    {
     "name": "stdout",
     "output_type": "stream",
     "text": [
      "{0, 1, 2, 3, 4, 5, 6, 7, 8, 9} \n",
      "\n",
      "{0, 2, 4, 6, 8} \n",
      "\n",
      "{1, 3, 5, 7, 9} \n",
      "\n",
      "{1, 3, 5, 7, 9}\n"
     ]
    }
   ],
   "source": [
    "set1 = set( range ( 10 ) )\n",
    "set2 = set( range ( 0,10,2 ) )\n",
    "\n",
    "# 합집합   ->  |  /  union()\n",
    "union_set = set1.union(set2)\n",
    "# union_set = set1 | set2\n",
    "print(union_set,'\\n')\n",
    "\n",
    "# 교칩합  -> &  /  intersection()\n",
    "inter_set = set1.intersection(set2)\n",
    "# inter_set = set1 & set2\n",
    "print(inter_set,'\\n')\n",
    "\n",
    "\n",
    "# 차집합  -> -  /  difference()\n",
    "diff_set = set1.difference(set2)\n",
    "# diff_set = set1 - set2\n",
    "print(diff_set,'\\n')\n",
    "\n",
    "# 대칭 차집합  -> ^ /  symmetric_difference()\n",
    "sym_set = set1.symmetric_difference(set2)\n",
    "# sym_set = set1 ^ set2\n",
    "print(sym_set)"
   ]
  },
  {
   "cell_type": "markdown",
   "id": "10655c9e-05e4-456b-bc3f-c451eaaa872b",
   "metadata": {},
   "source": [
    "# 5. 딕셔너리"
   ]
  },
  {
   "cell_type": "markdown",
   "id": "bba8ea40-405a-4b9a-8ec1-08d7c6384991",
   "metadata": {},
   "source": [
    "-  {키: 값}으로 이뤄진 구조이기에 인덱스가 아닌 키로 접근  \n",
    "- 요소가 반복 가능(iterable) , 변경 가능(mutable) 한 객체  \n",
    "  > iterable하나 인덱스가 아닌 키로 접근  \n",
    "  > 수정, 삭제, 추가 가능  --> mutable "
   ]
  },
  {
   "cell_type": "markdown",
   "id": "9aa07cf5-ca44-4f57-9316-d81b51848201",
   "metadata": {},
   "source": [
    "- **키**는 변경 불가능한 자료형만 가능\n",
    "  > immutable : str, int, float , bool, tuple,frozenset"
   ]
  },
  {
   "cell_type": "markdown",
   "id": "aa5a5ba8-bb40-44db-8b11-6f842e67c5a5",
   "metadata": {},
   "source": [
    "## 딕셔너리 생성법"
   ]
  },
  {
   "cell_type": "code",
   "execution_count": 34,
   "id": "ffade142-660e-42e9-ae70-800ff2213712",
   "metadata": {},
   "outputs": [
    {
     "name": "stdout",
     "output_type": "stream",
     "text": [
      "{'정파': ['화산', '종남', '소림', '무당'], '세가': ['사천당가', '남궁세가', '하북팽가'], '사파': '너무 많은데?'}\n"
     ]
    }
   ],
   "source": [
    "# 기본\n",
    "pra_dict  = {\n",
    "            '정파': ['화산','종남','소림','무당'],\n",
    "            '세가':['사천당가','남궁세가','하북팽가'],\n",
    "            '사파':'너무 많은데?'\n",
    "            }\n",
    "print(pra_dict)"
   ]
  },
  {
   "cell_type": "code",
   "execution_count": 51,
   "id": "6eb76014-6aa9-4969-914d-6417bcd239c7",
   "metadata": {},
   "outputs": [
    {
     "name": "stdout",
     "output_type": "stream",
     "text": [
      "{'봄': 0, '여름': 1, '가을': 2, '겨울': 3}\n"
     ]
    }
   ],
   "source": [
    "# (키,값) 형태로 dict 함수 사용  -> 리스트, 튜플은 되는데 집합은 안됨.\n",
    "\n",
    "#pra_dict = dict( [ ['봄',0] , ['여름',1] , ['가을',2] , ['겨울',3] ] )\n",
    "pra_dict = dict( (('봄',0) , ('여름',1) , ('가을',2), ('겨울',3) ) )\n",
    "print(pra_dict)"
   ]
  },
  {
   "cell_type": "code",
   "execution_count": 48,
   "id": "dc96cfd0-d914-4e0d-a3b8-61ba23215b48",
   "metadata": {},
   "outputs": [
    {
     "name": "stdout",
     "output_type": "stream",
     "text": [
      "{'언어': ['c', 'python', 'java'], '언어2': ['영어', '한국어', '일본어,', '중국어']}\n"
     ]
    }
   ],
   "source": [
    "# dict 함수 사용\n",
    "pra_dict = dict (\n",
    "    언어= ['c','python','java'],\n",
    "    언어2 = ['영어','한국어','일본어,','중국어']\n",
    ")\n",
    "print(pra_dict)"
   ]
  },
  {
   "cell_type": "markdown",
   "id": "f0df96c2-f2d7-4204-bbf7-0c6d50223a82",
   "metadata": {},
   "source": [
    "## 딕셔너리 메서드"
   ]
  },
  {
   "cell_type": "code",
   "execution_count": 64,
   "id": "453680a4-1ee3-42e1-b503-8faa4e91e518",
   "metadata": {},
   "outputs": [
    {
     "name": "stdout",
     "output_type": "stream",
     "text": [
      "{'봄': 0, '여름': 1, '가을': 2, '겨울': 3, '끝나지 않는 여름': [1.5]} \n",
      "\n",
      "{'봄': 0, '여름': 1, '가을': 2, '겨울': 3, '끝나지 않는 여름': [1.5, 0.7]} \n",
      "\n"
     ]
    }
   ],
   "source": [
    "pra_dict = dict( (('봄',0) , ('여름',1) , ('가을',2), ('겨울',3) ) )\n",
    "\n",
    "# 추가\n",
    "pra_dict['끝나지 않는 여름'] = [1.5]\n",
    "print(pra_dict,'\\n')\n",
    "\n",
    "# 기존 값에 값을 추가하는 방법  -> append\n",
    "# 이건 mutable한 값을 가진 애한테만 적용가능\n",
    "pra_dict['끝나지 않는 여름'].append(0.7)\n",
    "print(pra_dict,'\\n')\n"
   ]
  },
  {
   "cell_type": "code",
   "execution_count": 82,
   "id": "953ac77c-2d3d-4aa3-bbc1-2dbde3c1262a",
   "metadata": {},
   "outputs": [
    {
     "name": "stdout",
     "output_type": "stream",
     "text": [
      "{'봄': 0, '여름': 1, '겨울': 3, '끝나지 않는 여름': [1.5, 0.7]} \n",
      "\n",
      "0\n",
      "{'여름': 1, '겨울': 3, '끝나지 않는 여름': [1.5, 0.7]} \n",
      "\n",
      "('끝나지 않는 여름', [1.5, 0.7])\n",
      "{'여름': 1, '겨울': 3} \n",
      "\n",
      "{}\n"
     ]
    }
   ],
   "source": [
    "pra_dict = {'봄': 0, '여름': 1, '가을': 2, '겨울': 3, '끝나지 않는 여름': [1.5, 0.7]} \n",
    "\n",
    "# 삭제\n",
    "# del\n",
    "del pra_dict['가을']\n",
    "print(pra_dict,'\\n')\n",
    "\n",
    "#  pop(키)  -> 값을 반환하며 삭제\n",
    "del_dict = pra_dict.pop('봄')\n",
    "print(del_dict)\n",
    "print(pra_dict,'\\n')\n",
    "\n",
    "# popitem()  -> 키 지정 삭제 안됨 & 마지막 값을 (키,값) 형태로 지움\n",
    "del_dict = pra_dict.popitem()\n",
    "print(del_dict)\n",
    "print(pra_dict,'\\n')\n",
    "\n",
    "# clear()  -> 모든 요소 삭제\n",
    "pra_dict.clear()\n",
    "print(pra_dict)"
   ]
  },
  {
   "cell_type": "code",
   "execution_count": 96,
   "id": "c68c63b1-f9ed-4574-8323-f6ea4b422878",
   "metadata": {},
   "outputs": [
    {
     "name": "stdout",
     "output_type": "stream",
     "text": [
      "dict_keys(['봄', '여름', '가을', '겨울', '끝나지 않는 여름']) \n",
      "\n",
      "dict_values([0, 1, 2, 3, [1.5, 0.7]]) \n",
      "\n",
      "dict_items([('봄', 0), ('여름', 1), ('가을', 2), ('겨울', 3), ('끝나지 않는 여름', [1.5, 0.7])]) \n",
      "\n",
      "1\n",
      "키가 없음\n"
     ]
    }
   ],
   "source": [
    "# 기타 메서드\n",
    "pra_dict = {'봄': 0, '여름': 1, '가을': 2, '겨울': 3, '끝나지 않는 여름': [1.5, 0.7]} \n",
    "\n",
    "# keys () \n",
    "print(pra_dict.keys() , '\\n')\n",
    "\n",
    "# values()\n",
    "print(pra_dict.values() ,'\\n')\n",
    "\n",
    "#items()\n",
    "print(pra_dict.items() , '\\n')\n",
    "\n",
    "# get()\n",
    "print(pra_dict.get('여름'))\n",
    "print(pra_dict.get(\"꽃셈추위\",'키가 없음'))"
   ]
  },
  {
   "cell_type": "markdown",
   "id": "8b5ee724-7c3b-4a87-9a3f-a9f8ca199f99",
   "metadata": {},
   "source": [
    "# 참고"
   ]
  },
  {
   "cell_type": "markdown",
   "id": "941321df-03ec-4ef9-9b72-97d47da12ef9",
   "metadata": {},
   "source": [
    "## 1)깊은 복사, 얕은 복사, 참조 복사"
   ]
  },
  {
   "cell_type": "markdown",
   "id": "8a1af244-020f-49e6-ab02-be9e28951163",
   "metadata": {},
   "source": [
    "- mutable (  값 변경 가능 )  -> list , set ,  dict  \n",
    "- immutable ( 값 변경 불가능 )  -> str , int , float , bool , tuple, frozenset  "
   ]
  },
  {
   "cell_type": "markdown",
   "id": "377fc966-7a97-4b4d-ba54-8d6ad4b02d52",
   "metadata": {},
   "source": [
    "1. 참조 복사  \n",
    "   동일한 메모리주소를 가진 객체를 다른 변수에 하나 더 할당하는 것  \n",
    "   --> 같은 주소를 가리키기에 하나의 변수에 값을 변경하면, 다른 변수도 같이 변경이 됨.  \n",
    "   --> 할당받은 두 변수는 같은 id를 가짐\n"
   ]
  },
  {
   "cell_type": "code",
   "execution_count": 16,
   "id": "d0fa8576-4d39-46a2-a62f-20fb1be18224",
   "metadata": {},
   "outputs": [
    {
     "name": "stdout",
     "output_type": "stream",
     "text": [
      "a의 주소 = 1803566910592\n",
      "b의 주소 = 1803566910592\n",
      "\n",
      "값 변경 전 a = [1, 3, 5, 7, 9]\n",
      "b[1] =0을 적용한 후 a = [1, 0, 5, 7, 9]\n",
      "\n",
      "a의 주소 = 1803566910592\n",
      "b의 주소 = 1803566910592\n"
     ]
    }
   ],
   "source": [
    "a = list(range(1,10,2))\n",
    "b =  a\n",
    "print(f\"a의 주소 = {id(a)}\")\n",
    "print(f\"b의 주소 = {id(b)}\")\n",
    "print()\n",
    "print(f'값 변경 전 a = {a}')\n",
    "b[1] =0\n",
    "print(f'b[1] =0을 적용한 후 a = {a}')\n",
    "print()\n",
    "print(f\"a의 주소 = {id(a)}\")\n",
    "print(f\"b의 주소 = {id(b)}\")"
   ]
  },
  {
   "cell_type": "markdown",
   "id": "f3b23d9a-857c-4e4f-9024-f5bc23ca94cf",
   "metadata": {},
   "source": [
    "2. 얕은 복사  \n",
    "   객체의 최상위 레벨만 값을 복사하나, 내부의 객체는 원본의 객체와 동일한 주소를 할당받음.  \n",
    "   --> 각 변수들은 다른 주소를 가지고 있으나, 내부에 또 객체가 있을 경우( e.g)이중 리스트 )는 같은 주소를 가리킴.  \n",
    "   -->import copy의 copy.copy() 는 얕은 복사이다  \n",
    "   --> 슬라이싱으로 하는 복사도 얕은 복사이다.   \n",
    "   "
   ]
  },
  {
   "cell_type": "code",
   "execution_count": 28,
   "id": "cb2814f4-3acc-4a8b-a4d2-47cb6bd7447f",
   "metadata": {},
   "outputs": [
    {
     "name": "stdout",
     "output_type": "stream",
     "text": [
      "a의 주소 = 1803581136384\n",
      "b의 주소 = 1803581142592\n",
      "\n",
      "a의 내부 리스트 주소 = 1803581142464\n",
      "b의 내부 리스트 주소 = 1803581142464\n"
     ]
    }
   ],
   "source": [
    "import copy\n",
    "a = [1,2,[4,5,6]]\n",
    "b =  copy.copy(a)\n",
    "# b = a[:] \n",
    "print(f\"a의 주소 = {id(a)}\")\n",
    "print(f\"b의 주소 = {id(b)}\")\n",
    "print()\n",
    "print(f\"a의 내부 리스트 주소 = {id(a[2])}\")\n",
    "print(f\"b의 내부 리스트 주소 = {id(b[2])}\")\n"
   ]
  },
  {
   "cell_type": "markdown",
   "id": "37da005a-6bae-463d-83c2-037ce4c22737",
   "metadata": {},
   "source": [
    "3. 깊은 복사  \n",
    "   객체의 최상위 레벨 뿐 아니라 내부의 객체까지 전부 값을 복사함.  \n",
    "   --> import copy의 copy.deepcopy() 는 깊은 복사이다 "
   ]
  },
  {
   "cell_type": "code",
   "execution_count": 33,
   "id": "77e8b711-cff9-4bc3-8c1c-efb75219549e",
   "metadata": {},
   "outputs": [
    {
     "name": "stdout",
     "output_type": "stream",
     "text": [
      "a의 주소 = 1803581293760\n",
      "b의 주소 = 1803581296384\n",
      "\n",
      "a의 내부 리스트 주소 = 1803572543744\n",
      "b의 내부 리스트 주소 = 1803581294208\n"
     ]
    }
   ],
   "source": [
    "import copy\n",
    "a = [1,2,[4,5,6]]\n",
    "b =  copy.deepcopy(a)\n",
    "# b = a[:] \n",
    "print(f\"a의 주소 = {id(a)}\")\n",
    "print(f\"b의 주소 = {id(b)}\")\n",
    "print()\n",
    "print(f\"a의 내부 리스트 주소 = {id(a[2])}\")\n",
    "print(f\"b의 내부 리스트 주소 = {id(b[2])}\")"
   ]
  }
 ],
 "metadata": {
  "kernelspec": {
   "display_name": "Python 3 (ipykernel)",
   "language": "python",
   "name": "python3"
  },
  "language_info": {
   "codemirror_mode": {
    "name": "ipython",
    "version": 3
   },
   "file_extension": ".py",
   "mimetype": "text/x-python",
   "name": "python",
   "nbconvert_exporter": "python",
   "pygments_lexer": "ipython3",
   "version": "3.12.4"
  }
 },
 "nbformat": 4,
 "nbformat_minor": 5
}
