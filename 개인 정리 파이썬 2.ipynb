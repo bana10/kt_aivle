{
 "cells": [
  {
   "cell_type": "markdown",
   "id": "8bddb3bf-1766-46d6-8e30-775094e9fa4b",
   "metadata": {},
   "source": [
    "- **키워드**는 변수선언이 불가능하지만, **내장함수**는 변수선언이 가능하다\n",
    ">  내장 함수는 특정 작업을 수행하기 위한 함수이고, 키워드는 파이썬의 문법 구조를 정의  \n",
    ">  내장함수 : list(), len(), print() 등  \n",
    ">  키워드 : for, if - elif - else, def 등  "
   ]
  },
  {
   "cell_type": "markdown",
   "id": "a1e1e3d5-5b8c-4abd-875e-91512c3a0cfd",
   "metadata": {},
   "source": [
    "- 자료형에 따라서 쓸 수 있는 메소드가 다르다.\n",
    "> 메소드 : 클래스나 객체에 속하는 함수로, 해당 클래스나 객체의 데이터를 조작하거나 동작을 정의 --> 동작이라 생각하면 됨  \n",
    "> 함수 : 독립적으로 정의된 코드 블록으로, 특정 작업을 수행. 클래스나 객체에 속하지 않고, 전역적으로 사용"
   ]
  },
  {
   "cell_type": "markdown",
   "id": "37edc66c-3897-4c4d-bb7d-25a6a13f5376",
   "metadata": {},
   "source": [
    "+  ( 참고 )클래스와 객체 차이는 뭐야?  \n",
    "> 클래스 : 객체를 생성하기 위한 청사진(설계도). 클래스는 속성(데이터)과 메소드(함수)를 정의  \n",
    "> 객체 = object : 클래스로부터 생성된 실체(instance), 클래스에서 정의한 속성과 메소드를 가짐. 실제 데이터를 가짐.  "
   ]
  },
  {
   "cell_type": "markdown",
   "id": "1bed875e-3111-4f24-8f21-84bfe6ce81be",
   "metadata": {},
   "source": [
    "- 함수 정의때 매개변수와 인수의 차이\n",
    "  > 매개변수 : 함수에 입력으로 전달된 값을 받는 변수  e.g) def add( a, b ) :    --> 에서 a,b가 매개변수  \n",
    "  > 인수 : 함수를 호출 시 전달되는 입력값   e.g) add( 3,4 )   -> 3,4가 인수"
   ]
  },
  {
   "cell_type": "markdown",
   "id": "caa9b02e-f0c2-42dd-b66c-6355352a4a49",
   "metadata": {},
   "source": [
    "- 위치인수는 def 때 변수를 넣어서 작성될 때의 변수.  \n",
    "  ex) def smile(sleep) :    --> sleep은 위치변수  \n",
    "\n",
    "- 기본인수는 def 에서 위치인수에 default값이 지정된 변수.  \n",
    "  ex) def smile(sleep= 8) :    --> sleep은 기본인수\n",
    "\n",
    "- 키워드인수는 만들어진 함수를 호출할 때 변수이름을 지정하여 사용하는 것.  \n",
    "  ex) smile(sleep = 10)   --> 입력값을 변수 이용하여 사용\n",
    "\n",
    "---\n",
    "\n",
    "함수 설계 할 때,  \n",
    "def ( 위치인수 , 가변인수 ) :  -> 이건 함수 호출 시 키워드 인수 사용불가.  \n",
    "def ( 가변인수 , 위치인수 ) :  -> 함수 호출 시 키워드 인수를 필히 사용해서 위치인수의 값을 알려줘야함"
   ]
  },
  {
   "cell_type": "markdown",
   "id": "1ca51555-a3cc-456e-b835-9e8cd7013a43",
   "metadata": {},
   "source": [
    "# 내장함수 몇 개"
   ]
  },
  {
   "cell_type": "markdown",
   "id": "4ce6e03a-ce4b-4b5a-8bda-b0ade0f4df3b",
   "metadata": {},
   "source": [
    "chr ()   <- >  ord ()"
   ]
  },
  {
   "cell_type": "code",
   "execution_count": 22,
   "id": "0cf300d5-a5f7-4d40-9066-6562ee03c25b",
   "metadata": {},
   "outputs": [
    {
     "name": "stdout",
     "output_type": "stream",
     "text": [
      "k\n",
      "106\n"
     ]
    }
   ],
   "source": [
    "#chr()  -> 아스키코드 출력\n",
    "print(chr(107))\n",
    "\n",
    "# ord()  -> 문자 입력하면 아스키코드 출력\n",
    "print(ord('j'))\n"
   ]
  },
  {
   "cell_type": "markdown",
   "id": "8e1d953a-4395-4364-8928-cda6d88605bd",
   "metadata": {},
   "source": [
    "enumerate()  --> 인덱스와 값을 튜플형식으로 출력"
   ]
  },
  {
   "cell_type": "markdown",
   "id": "0f423858-19d1-43ca-bd19-f0f3a0816ad5",
   "metadata": {},
   "source": [
    "eval()  --> 계산 혹은 출력가능한 문자형식을 계산하여 출력"
   ]
  },
  {
   "cell_type": "markdown",
   "id": "81114ceb-cdca-42a7-9ad3-510a3e6af2ce",
   "metadata": {},
   "source": [
    "map( 함수 , 인수 )"
   ]
  },
  {
   "cell_type": "code",
   "execution_count": 28,
   "id": "59290339-7598-47fd-8db8-f0401a15718d",
   "metadata": {},
   "outputs": [
    {
     "name": "stdout",
     "output_type": "stream",
     "text": [
      "[2, 3, 4, 5]\n"
     ]
    }
   ],
   "source": [
    "temp = list(map(lambda x : x+2 , range(4)))\n",
    "print(temp)"
   ]
  },
  {
   "cell_type": "markdown",
   "id": "e7ff2448-a301-4ea9-a527-96f224c8e462",
   "metadata": {},
   "source": [
    "zip ( 인수 , 인수 )  -> 튜플형태로 묶어서 보내줌"
   ]
  },
  {
   "cell_type": "code",
   "execution_count": 40,
   "id": "af335810-758a-4b73-9bbd-46476fd479ad",
   "metadata": {},
   "outputs": [
    {
     "name": "stdout",
     "output_type": "stream",
     "text": [
      "[(0, 1), (1, 3), (2, 5), (3, 7), (4, 9)]\n"
     ]
    }
   ],
   "source": [
    "a = list(range(10))\n",
    "b = list(range(1,10,2))\n",
    "print(list(zip(a,b)))"
   ]
  },
  {
   "cell_type": "markdown",
   "id": "e66acdec-5303-40bd-9a4e-0768aceff6e9",
   "metadata": {},
   "source": [
    "숫자인지, 문자인지, 둘다 아닌지 판단하는거"
   ]
  },
  {
   "cell_type": "code",
   "execution_count": 66,
   "id": "e8892b35-cf7b-4a73-9bf0-fabc76872cc5",
   "metadata": {},
   "outputs": [
    {
     "name": "stdout",
     "output_type": "stream",
     "text": [
      "True\n",
      "False\n"
     ]
    }
   ],
   "source": [
    "# 알파벳인가  --> isalpha()\n",
    "print('adng'.isalpha())\n",
    "print('ad134ng'.isalpha())"
   ]
  },
  {
   "cell_type": "code",
   "execution_count": 68,
   "id": "57f22c43-f072-4ee3-96a4-ded9e54fa03f",
   "metadata": {},
   "outputs": [
    {
     "name": "stdout",
     "output_type": "stream",
     "text": [
      "False\n",
      "False\n",
      "True\n"
     ]
    }
   ],
   "source": [
    "# 숫자인가  --> isdigit()\n",
    "print('adng'.isdigit())\n",
    "print('ad134ng'.isdigit())\n",
    "print(\"2345\".isdigit())"
   ]
  },
  {
   "cell_type": "code",
   "execution_count": 72,
   "id": "ceebe88e-d023-469d-bff1-81c12d9d414c",
   "metadata": {},
   "outputs": [
    {
     "name": "stdout",
     "output_type": "stream",
     "text": [
      "True\n",
      "True\n",
      "True\n",
      "False\n",
      "True\n"
     ]
    }
   ],
   "source": [
    "# 숫자나 알파벳인가  --> isalnum()\n",
    "print('adng'.isalnum())\n",
    "print('ad134ng'.isalnum())\n",
    "print(\"2345\".isalnum())\n",
    "print(\"15**!바보\".isalnum())\n",
    "print(\"나비\".isalnum())"
   ]
  },
  {
   "cell_type": "markdown",
   "id": "4a6e0a74-df12-4d73-86fc-d69b81d6002b",
   "metadata": {},
   "source": [
    "# (참고)"
   ]
  },
  {
   "cell_type": "markdown",
   "id": "15118f4c-2fb2-4ac5-89dd-23b812340eff",
   "metadata": {},
   "source": [
    "## class"
   ]
  },
  {
   "cell_type": "markdown",
   "id": "d49dbf70-d6e0-4ee2-b088-334107273f7a",
   "metadata": {},
   "source": [
    "- class\n",
    "  > 속성 :  객체 변수, 클래스 변수가 있다. 클래스에서 정의한 변수\n",
    "  > > 객체변수 : 로컬변수 같은 거  \n",
    "  > > 클래스 변수 : 전역변수 같은 거\n",
    "  \n",
    "  > 메서드 : 동작  \n",
    "  > > 생성자 : 객체가 생성될 때 자동으로 호출되는 메서드  \n",
    "    def __init__(self, num1,num2):  \n",
    "            self.num1 = num1  \n",
    "            self.num2 = num2   "
   ]
  },
  {
   "cell_type": "markdown",
   "id": "62b58f7b-b375-47d4-a672-d092923397b4",
   "metadata": {},
   "source": [
    "- 클래스 상속  \n",
    "  class 상속받는 클래스(상속하는 클래스) :\n",
    "> 상속받은 클래스는 상속하는 클래스의 메서드, 속성을 따로 설정없이 사용가능하다.  \n",
    "> 메서드 오버라이딩 : 상속하는 클래스의 메서드의 명을 그대로 사용하여 내용을 수정하고, 그 메서드 명을 호출시 수정한 메서드로 동작되는 것"
   ]
  },
  {
   "cell_type": "markdown",
   "id": "e01d4970-1aa0-4202-813f-29f58687fb3f",
   "metadata": {},
   "source": [
    "(+)  모듈 : 함수나 클래스를 모아놓은 파이썬 파일  --> .py로 저장되어 있는 것.  \n",
    "(+)  패키지 : 모듈의 집합"
   ]
  },
  {
   "cell_type": "code",
   "execution_count": 56,
   "id": "9f232f2b-0cdb-4d28-b3be-3fb071951181",
   "metadata": {},
   "outputs": [],
   "source": [
    "# 사용자 정의 에러 만들기\n",
    "class my_error(Exception) :\n",
    "    pass\n",
    "        \n",
    "\n",
    "#  하루 여유시간을 구하자고 해보자.\n",
    "class free_time():\n",
    "\n",
    "    # 생성자 초기화 : 클래스 시작하면 자동으로 호출 및 생성\n",
    "    def __init__(self ,f_time = 1440):\n",
    "        self._f_time = f_time      # 변수 이름 앞에 _추가함으로써 protect 기능을 하게 함\n",
    "\n",
    "    # 밥 먹는 시간\n",
    "    def set_eat(self, eat):\n",
    "        self._f_time -= eat\n",
    "\n",
    "    # 잠 자는 시간\n",
    "    def set_sleep(self , sleep) :\n",
    "        self._f_time -= sleep\n",
    "\n",
    "    # 남은 시간 얻기\n",
    "    def get_time(self):\n",
    "        print(f\" 지금까지 남은 시간은 {self._f_time //60}시간 {self._f_time %60}분 입니다.\")\n",
    "\n",
    "    # 하루 남은 시간 입력하기\n",
    "    def set_time(self,f_time):\n",
    "        self._f_time = f_time\n",
    "\n",
    "\n",
    "# 클래스 상속하기\n",
    "class renew_time(free_time) :\n",
    "\n",
    "    # 운동여부 및 운동시간\n",
    "    def ex_time(self ) :\n",
    "        try :\n",
    "            ans = input(\"운동 했나요? (응답은 o,x로 하세요) : \")\n",
    "            if ans not in ['o', 'x']:\n",
    "                # raise가 오류를 실행시킴\n",
    "                raise my_error\n",
    "\n",
    "        except my_error :\n",
    "               print(\"잘못된 응답입니다. 'o' 또는 'x'로 응답하세요.\")\n",
    "\n",
    "        # 오류가 없을 때만 동작함\n",
    "        else : \n",
    "            if ans == 'o' :\n",
    "                ex = int(input(\"얼마나 했나요? (분단위로 입력)  : \"))\n",
    "                self._f_time -= ex\n",
    "                self.get_time()  \n",
    "                \n",
    "            else :\n",
    "                print(\"운동 하러 가세요. \")\n",
    "\n",
    "   "
   ]
  },
  {
   "cell_type": "code",
   "execution_count": 58,
   "id": "3fa4d088-b879-4f68-9899-b7a630bd7d9d",
   "metadata": {},
   "outputs": [
    {
     "name": "stdin",
     "output_type": "stream",
     "text": [
      "운동 했나요? (응답은 o,x로 하세요) :  o\n",
      "얼마나 했나요? (분단위로 입력)  :  30\n"
     ]
    },
    {
     "name": "stdout",
     "output_type": "stream",
     "text": [
      " 지금까지 남은 시간은 14시간 30분 입니다.\n"
     ]
    }
   ],
   "source": [
    "a = renew_time()\n",
    "a.set_sleep(9*60)\n",
    "a.ex_time()"
   ]
  }
 ],
 "metadata": {
  "kernelspec": {
   "display_name": "Python 3 (ipykernel)",
   "language": "python",
   "name": "python3"
  },
  "language_info": {
   "codemirror_mode": {
    "name": "ipython",
    "version": 3
   },
   "file_extension": ".py",
   "mimetype": "text/x-python",
   "name": "python",
   "nbconvert_exporter": "python",
   "pygments_lexer": "ipython3",
   "version": "3.12.4"
  }
 },
 "nbformat": 4,
 "nbformat_minor": 5
}
